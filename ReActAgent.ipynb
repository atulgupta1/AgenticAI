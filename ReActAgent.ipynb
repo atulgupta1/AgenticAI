{
 "cells": [
  {
   "cell_type": "markdown",
   "id": "1f3064bf",
   "metadata": {},
   "source": [
    "### ReACT Agent Architecture"
   ]
  },
  {
   "cell_type": "code",
   "execution_count": null,
   "id": "4d59cdb4",
   "metadata": {},
   "outputs": [
    {
     "name": "stdout",
     "output_type": "stream",
     "text": [
      "d:\\AgenticAI\\.venv\\Scripts\\python.exe\n",
      "True\n"
     ]
    },
    {
     "data": {
      "image/png": "[encoded data removed]",
      "text/plain": [
       "<IPython.core.display.Image object>"
      ]
     },
     "metadata": {},
     "output_type": "display_data"
    },
    {
     "name": "stdout",
     "output_type": "stream",
     "text": [
      "content='Give me the recent ai news and then multiply 5 by 10' additional_kwargs={} response_metadata={} id='6d65e428-7b8d-461c-a336-79de81feaa6a'\n",
      "content='' additional_kwargs={'tool_calls': [{'id': 'pfhkjvgpp', 'function': {'arguments': '{\"query\":\"recent ai news\",\"search_depth\":\"advanced\",\"topic\":\"news\"}', 'name': 'tavily_search'}, 'type': 'function'}]} response_metadata={'token_usage': {'completion_tokens': 124, 'prompt_tokens': 2212, 'total_tokens': 2336, 'completion_time': 0.195092315, 'prompt_time': 0.247553051, 'queue_time': 0.273084617, 'total_time': 0.442645366}, 'model_name': 'llama3-8b-8192', 'system_fingerprint': 'fp_8b7c3a83f7', 'finish_reason': 'tool_calls', 'logprobs': None} id='run--69186895-a31d-46a8-9baa-578ca748fa92-0' tool_calls=[{'name': 'tavily_search', 'args': {'query': 'recent ai news', 'search_depth': 'advanced', 'topic': 'news'}, 'id': 'pfhkjvgpp', 'type': 'tool_call'}] usage_metadata={'input_tokens': 2212, 'output_tokens': 124, 'total_tokens': 2336}\n",
      "content='{\"query\": \"recent ai news\", \"follow_up_questions\": null, \"answer\": null, \"images\": [], \"results\": [{\"url\": \"https://www.newsweek.com/nw-ai/ai-impact-awards-2025-science-engineering-2084754\", \"title\": \"AI Impact Awards 2025: The Changing Human Role in Science and Engineering - Newsweek\", \"score\": 0.7318455, \"published_date\": \"Wed, 25 Jun 2025 10:02:01 GMT\", \"content\": \"Newsweek _\\\\\\\\_will continue the conversation on meaningful AI innovations at our AI Impact Summit from June 23 to 25 in Sonoma, California. Click here to follow along on the live blog.\\\\\\\\__\\\\n\\\\nRequest Reprint & LicensingSubmit CorrectionView Editorial Guidelines\\\\n\\\\nSHARE:xfacebooklinkedinredditemailwhatsappCopy & Share\\\\n\\\\n✓ Link copied to clipboard!\\\\n\\\\nThe Latest in AI\\\\n----------------\\\\n\\\\nNEWSWEEK.AI\\\\n\\\\n06.09.25\\\\n\\\\n### Generative AI\\'s Mission to Explore Strange New Worlds [...] ### AI Will Connect Mercedes-Benz Places Residents to the World\\\\n\\\\nThe new Miami condo complex will have state-of-the-art technology.\\\\n\\\\nArtificial Intelligence Miami\\\\n\\\\nNEWS\\\\n\\\\n06.04.25\\\\n\\\\n### Reddit Sues AI Provider for Breach of Contract\\\\n\\\\nThe AI start up Anthropic has allegedly engaged in \\\\\"unlawful and unfair business acts.\\\\\"\\\\n\\\\nReddit AI\\\\n\\\\nTECHNOLOGY\\\\n\\\\n06.02.25\\\\n\\\\n### Could AI Save Small Businesses? Mindbody Makes a Case to Wellness Brands [...] CloudBees also recently introduced its newest tool: Unify. It centralizes control across all major CI/CD tools to unify analytics, standardize governance and secure workflows without switching costs, according to the website.\", \"raw_content\": null}, {\"url\": \"https://www.cnn.com/2025/06/23/tech/ai-impact-on-jobs-callout\", \"title\": \"Do you think AI changing or threatening to take your job? Tell us about it here - CNN\", \"score\": 0.64478505, \"published_date\": \"Mon, 23 Jun 2025 13:00:00 GMT\", \"content\": \"Anthropic CEO Dario Amodei warned last month that AI could cause as much as 20% unemployment in the next one to five years. And last week, Amazon CEO Andy Jassy told his employees that AI agents would reduce the company’s workforce in the near future. [...] Tell us about it in the form below, and please leave your contact information. No named commentary will be used without following up with you, and we can discuss providing anonymity if you’re concerned about speaking on the record about work.\\\\n\\\\n1 comment\\\\n\\\\nUp next\\\\n-------\\\\n\\\\nImage 3Amazon says it will reduce its workforce as AI replaces human employees Jun 17, 2025 2 minute read min read\\\\n\\\\nImage 4Your AI use could have a hidden environmental cost Jun 23, 2025 5 minute read min read [...] Silicon Valley leaders have warned that AI agents could replace human workers, but some critics question whether the technology is truly ready for primetime.\\\\n\\\\nvm/iStockphoto/Getty Images\\\\n\\\\nNew York CNN—\\\\n\\\\nSome of Silicon Valley’s top leaders have warned in recent weeks that artificial intelligence is coming for people’s jobs — and fast.\", \"raw_content\": null}, {\"url\": \"https://techcrunch.com/2025/06/24/new-data-highlights-the-race-to-build-more-empathetic-language-models/\", \"title\": \"New data highlights the race to build more empathetic language models - TechCrunch\", \"score\": 0.6388584, \"published_date\": \"Tue, 24 Jun 2025 21:03:01 GMT\", \"content\": \"Image 3: grapic depiction of white soundwaves on pinkish background\\\\n\\\\nImage Credits:Bryce Durbin/TechCrunch\\\\n\\\\nAI\\\\n\\\\n[](\\\\n\\\\nNew data highlights the race to build more empathetic language models\\\\n=====================================================================\\\\n\\\\nRussell Brandom\\\\n\\\\n2:03 PM PDT · June 24, 2025\\\\n\\\\n[]( [...] ### Cluely, a startup that helps ‘cheat on everything,’ raises $15M from a16z\\\\n\\\\n       Marina Temkin\\\\n\\\\n   \\\\n### 6-month-old, solo-owned vibe coder Base44 sells to Wix for $80M cash\\\\n\\\\n       Julie Bort\\\\n\\\\n   \\\\n### Police shut down Cluely’s party, the ‘cheat at everything’ startup\\\\n\\\\n       Julie Bort\\\\n\\\\n   \\\\n### Sam Altman says Meta tried and failed to poach OpenAI’s talent with $100M offers\\\\n\\\\n       Maxwell Zeff\\\\n\\\\n   \\\\n### Google’s Gemini panicked when playing Pokémon\\\\n\\\\n       Amanda Silberling [...] That level of emotional connection comes with real safety concerns. Unhealthy emotional attachments to AI models have become a common story in the media, sometimes ending in tragedy. A recent New York Times report found multiple users who have been lured into elaborate delusions through conversations with AI models, fueled by the models’ strong inclination to please users. One critic described the dynamic as “preying on the lonely and vulnerable for a monthly fee.”\", \"raw_content\": null}, {\"url\": \"https://www.mining-technology.com/sponsored/whats-next-for-industrial-ai-five-key-developments-shaping-the-space/\", \"title\": \"What’s next for industrial AI? Five key developments shaping the space - Mining Technology\", \"score\": 0.6213807, \"published_date\": \"Fri, 27 Jun 2025 11:45:28 GMT\", \"content\": \"Paving the way in Industrial AI NLP is Huawei. With its recent release of Pangu Models 5.5, which boasts a comprehensive upgrade of its NLP, Computer Vision, Multimodal, Prediction, and Scientific Computing Models, Huawei is revolutionising Industrial AI applications. [...] Responding to this growing need, Huawei Cloud has recently released the Pangu World Model, which can construct digital spaces for training intelligent driving systems and embodied AI robots, as well as support continuous optimisation and iterations. With new technologies like 4D interaction space, the Pangu World Model is the industry’s first AI model that supports the simultaneous generation of point clouds and videos. [...] Huawei Cloud has also been continuously deepening its Pangu Scientific Computing Model, applying it across a wider range of scientific application fields. The Meteorological Bureau of Shenzhen Municipality, for example, recently upgraded its Zhiji Model based on Pangu to implement regional ensemble forecasts. Such forecast results can more closely reflect changes in weather systems and help the Bureau to forecast weather more accurately.\", \"raw_content\": null}, {\"url\": \"https://roboticsandautomationnews.com/2025/06/23/from-asteroid-mining-to-democratizing-quantum-world-economic-forum-technology-selects-pioneers-in-new-wave-of-global-innovation/92426/\", \"title\": \"World Economic Forum names 2025 Technology Pioneers driving frontier innovation - Robotics & Automation News\", \"score\": 0.59880555, \"published_date\": \"Mon, 23 Jun 2025 09:27:13 GMT\", \"content\": \"• CO2 AI – Helping large and complex organizations measure their environmental impact, identify credible levers and decarbonize at scale through AI.\\\\n\\\\n• Jimmy – Developing a micro nuclear reactor to provide carbon-free, competitive heat for industrial processes.\\\\n\\\\n• Nabla – Reducing clinician burnout by automating clinical documentation with AI.\\\\n\\\\n• Orakl Oncology – Creating a biology and AI-powered simulation platform to revolutionize oncology drug development. [...] • Arine – Integrating cutting-edge AI, clinical expertise and advanced data analytics to deliver medication-based care interventions at the population level.\\\\n\\\\n• AstroForge – Making critical minerals more accessible to humanity by mining asteroids.\\\\n\\\\n• BforeAI – Using behavioural AI to predict and automatically pre-empt malicious campaigns and stop cyberattacks before they occur.\\\\n\\\\n• Candidly – Developing an AI-powered platform to help borrowers manage and overcome educational loans. [...] • RoboForce – Building AI-powered robotic systems designed for high-risk or repetitive work, to enhance efficiency, productivity and safety across industries.\\\\n\\\\n• Rubi Laboratories – Using biocatalysis to transform CO2 into essential materials like cellulose.\\\\n\\\\n• Shiru – Leveraging AI to identify and develop naturally occurring functional ingredients.\\\\n\\\\n• Starcloud – Constructing data centres in space to solve the AI energy challenge.\", \"raw_content\": null}], \"response_time\": 1.3}' name='tavily_search' id='b41d6139-594a-4a5b-9366-e176df8bbe51' tool_call_id='pfhkjvgpp'\n",
      "content='' additional_kwargs={'tool_calls': [{'id': 'eracjyxxm', 'function': {'arguments': '{\"a\":5,\"b\":10}', 'name': 'multiply'}, 'type': 'function'}]} response_metadata={'token_usage': {'completion_tokens': 63, 'prompt_tokens': 4128, 'total_tokens': 4191, 'completion_time': 0.100765577, 'prompt_time': 0.459389391, 'queue_time': 0.27376285600000005, 'total_time': 0.560154968}, 'model_name': 'llama3-8b-8192', 'system_fingerprint': 'fp_2717d04279', 'finish_reason': 'tool_calls', 'logprobs': None} id='run--9f449a95-851b-4797-8a56-8a787fda20f1-0' tool_calls=[{'name': 'multiply', 'args': {'a': 5, 'b': 10}, 'id': 'eracjyxxm', 'type': 'tool_call'}] usage_metadata={'input_tokens': 4128, 'output_tokens': 63, 'total_tokens': 4191}\n",
      "content='50' name='multiply' id='43bccce5-c78a-49ba-a719-19cdf96f2c39' tool_call_id='eracjyxxm'\n",
      "content='50' additional_kwargs={} response_metadata={'token_usage': {'completion_tokens': 2, 'prompt_tokens': 4199, 'total_tokens': 4201, 'completion_time': 0.004174342, 'prompt_time': 1.096137231, 'queue_time': 0.3690131190000001, 'total_time': 1.100311573}, 'model_name': 'llama3-8b-8192', 'system_fingerprint': 'fp_2717d04279', 'finish_reason': 'stop', 'logprobs': None} id='run--1181dc18-7bd5-41e7-9140-22cf32f44fc1-0' usage_metadata={'input_tokens': 4199, 'output_tokens': 2, 'total_tokens': 4201}\n"
     ]
    }
   ],
   "source": [
    "from langchain_tavily import TavilySearch\n",
    "from typing import Annotated\n",
    "from typing_extensions import TypedDict\n",
    "from langgraph.graph import StateGraph,START,END\n",
    "from langgraph.graph.message import add_messages\n",
    "from IPython.display import Image, display\n",
    "\n",
    "\n",
    "\n",
    "class State(TypedDict):\n",
    "    messages:Annotated[list,add_messages] ## add_message is acting as reducer\n",
    "\n",
    "graph_builder=StateGraph(State)\n",
    "graph_builder\n",
    "\n",
    "import os \n",
    "from dotenv import load_dotenv\n",
    "load_dotenv()\n",
    "\n",
    "from langchain_groq import ChatGroq\n",
    "from langchain.chat_models import init_chat_model\n",
    "\n",
    "import os\n",
    "os.environ[\"GROQ_API_KEY\"] = \"GROQ_API_KEY\"\n",
    "llm = ChatGroq(model=\"llama3-8b-8192\")\n",
    "llm\n",
    "\n",
    "llm = ChatGroq(model=\"llama3-8b-8192\", api_key=os.environ[\"GROQ_API_KEY\"])\n",
    "\n",
    "\n",
    "tool  = TavilySearch(max_search=2)\n",
    "tool.invoke(\"What is langgraph\")\n",
    "\n",
    "import sys\n",
    "print(sys.executable)\n",
    "\n",
    "import pkg_resources\n",
    "installed_packages = {pkg.key for pkg in pkg_resources.working_set}\n",
    "print('langchain-tavily' in installed_packages)\n",
    "\n",
    "\n",
    "##Custom function\n",
    "def multiply(a:int,b:int)->int:\n",
    "    \"\"\"Multiply a and b\n",
    "\n",
    "    args:\n",
    "         a(int): first int\n",
    "         b(int): second int\n",
    "        \n",
    "    Returns:\n",
    "        int:output int\n",
    "    \n",
    "    \"\"\"\n",
    "\n",
    "    return a*b\n",
    "\n",
    "\n",
    "\n",
    "\n",
    "tools=[tool,multiply]\n",
    "llm_with_tool=llm.bind_tools(tools)\n",
    "llm_with_tool\n",
    "\n",
    "### Stategraph\n",
    "from langgraph.graph import StateGraph,START,END\n",
    "from langgraph.prebuilt import ToolNode\n",
    "from langgraph.prebuilt import tools_condition\n",
    "\n",
    "\n",
    "\n",
    "## Node Defination\n",
    "def tool_calling_llm(state:State):\n",
    "    return {\"messages\":[llm_with_tool.invoke(state[\"messages\"])]}\n",
    "\n",
    "## create a graph\n",
    "builder= StateGraph(State)\n",
    "builder.add_node(\"tool_calling_llm\",tool_calling_llm)\n",
    "builder.add_node(\"tools\",ToolNode(tools))\n",
    "\n",
    "## add edges \n",
    "builder.add_edge(START,\"tool_calling_llm\")\n",
    "builder.add_conditional_edges(\n",
    "    \"tool_calling_llm\",\n",
    "    # if the latest messgaes (result) from assistant is a tool call ->tools_condition routes to tools\n",
    "    # if the latest messgaes (result) from assistant is a not tool call -> tools_condition routes to END\n",
    "    tools_condition\n",
    ")\n",
    "builder.add_edge(\"tools\",\"tool_calling_llm\")\n",
    "\n",
    "\n",
    "##compile the graph\n",
    "graph1 = builder.compile()\n",
    "display(Image(graph1.get_graph().draw_mermaid_png()))\n",
    "\n",
    "respone =graph1.invoke({\"messages\":\"Give me the recent ai news and then multiply 5 by 10\"})\n",
    "respone['messages'][-1].content\n",
    "\n",
    "for m in respone[\"messages\"]:\n",
    "    print(m)"
   ]
  },
  {
   "cell_type": "code",
   "execution_count": 2,
   "id": "42897bec",
   "metadata": {},
   "outputs": [
    {
     "name": "stdout",
     "output_type": "stream",
     "text": [
      "['TavilyCrawl', 'TavilyExtract', 'TavilyMap', 'TavilySearch', '__all__', '__builtins__', '__cached__', '__doc__', '__file__', '__loader__', '__name__', '__package__', '__path__', '__spec__', '__version__', '_utilities', 'tavily_crawl', 'tavily_extract', 'tavily_map', 'tavily_search']\n"
     ]
    }
   ],
   "source": [
    "import langchain_tavily\n",
    "print(dir(langchain_tavily))"
   ]
  }
 ],
 "metadata": {
  "kernelspec": {
   "display_name": ".venv",
   "language": "python",
   "name": "python3"
  },
  "language_info": {
   "codemirror_mode": {
    "name": "ipython",
    "version": 3
   },
   "file_extension": ".py",
   "mimetype": "text/x-python",
   "name": "python",
   "nbconvert_exporter": "python",
   "pygments_lexer": "ipython3",
   "version": "3.9.13"
  }
 },
 "nbformat": 4,
 "nbformat_minor": 5
}
