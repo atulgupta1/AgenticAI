{
 "cells": [
  {
   "cell_type": "markdown",
   "id": "50343148",
   "metadata": {},
   "source": [
    "### Add Memory in Agentic Graph"
   ]
  },
  {
   "cell_type": "code",
   "execution_count": null,
   "id": "f47ef1bd",
   "metadata": {},
   "outputs": [
    {
     "name": "stdout",
     "output_type": "stream",
     "text": [
      "d:\\AgenticAI\\.venv\\Scripts\\python.exe\n",
      "True\n"
     ]
    },
    {
     "data": {
      "image/png": "[encoded data removed]",
      "text/plain": [
       "<IPython.core.display.Image object>"
      ]
     },
     "metadata": {},
     "output_type": "display_data"
    }
   ],
   "source": [
    "from langchain_tavily import TavilySearch\n",
    "from typing import Annotated\n",
    "from typing_extensions import TypedDict\n",
    "from langgraph.graph import StateGraph,START,END\n",
    "from langgraph.graph.message import add_messages\n",
    "from IPython.display import Image, display\n",
    "\n",
    "\n",
    "\n",
    "class State(TypedDict):\n",
    "    messages:Annotated[list,add_messages] ## add_message is acting as reducer\n",
    "\n",
    "graph_builder=StateGraph(State)\n",
    "graph_builder\n",
    "\n",
    "import os \n",
    "from dotenv import load_dotenv\n",
    "load_dotenv()\n",
    "\n",
    "from langchain_groq import ChatGroq\n",
    "from langchain.chat_models import init_chat_model\n",
    "\n",
    "import os\n",
    "os.environ[\"GROQ_API_KEY\"] = \"GROQ_API_KEY\"\n",
    "llm = ChatGroq(model=\"llama3-8b-8192\")\n",
    "llm\n",
    "\n",
    "llm = ChatGroq(model=\"llama3-8b-8192\", api_key=os.environ[\"GROQ_API_KEY\"])\n",
    "\n",
    "\n",
    "tool  = TavilySearch(max_search=2)\n",
    "tool.invoke(\"What is langgraph\")\n",
    "\n",
    "import sys\n",
    "print(sys.executable)\n",
    "\n",
    "import pkg_resources\n",
    "installed_packages = {pkg.key for pkg in pkg_resources.working_set}\n",
    "print('langchain-tavily' in installed_packages)\n",
    "\n",
    "\n",
    "##Custom function\n",
    "def multiply(a:int,b:int)->int:\n",
    "    \"\"\"Multiply a and b\n",
    "\n",
    "    args:\n",
    "         a(int): first int\n",
    "         b(int): second int\n",
    "        \n",
    "    Returns:\n",
    "        int:output int\n",
    "    \n",
    "    \"\"\"\n",
    "\n",
    "    return a*b\n",
    "\n",
    "\n",
    "\n",
    "\n",
    "tools=[tool,multiply]\n",
    "llm_with_tool=llm.bind_tools(tools)\n",
    "llm_with_tool\n",
    "\n",
    "### Stategraph\n",
    "from langgraph.graph import StateGraph,START,END\n",
    "from langgraph.prebuilt import ToolNode\n",
    "from langgraph.prebuilt import tools_condition\n",
    "from langgraph.checkpoint.memory import MemorySaver\n",
    "\n",
    "memory = MemorySaver()\n",
    "\n",
    "## Node Defination\n",
    "def tool_calling_llm(state:State):\n",
    "    return {\"messages\":[llm_with_tool.invoke(state[\"messages\"])]}\n",
    "\n",
    "## create a graph\n",
    "builder= StateGraph(State)\n",
    "builder.add_node(\"tool_calling_llm\",tool_calling_llm)\n",
    "builder.add_node(\"tools\",ToolNode(tools))\n",
    "\n",
    "## add edges \n",
    "builder.add_edge(START,\"tool_calling_llm\")\n",
    "builder.add_conditional_edges(\n",
    "    \"tool_calling_llm\",\n",
    "    # if the latest messgaes (result) from assistant is a tool call ->tools_condition routes to tools\n",
    "    # if the latest messgaes (result) from assistant is a not tool call -> tools_condition routes to END\n",
    "    tools_condition\n",
    ")\n",
    "builder.add_edge(\"tools\",\"tool_calling_llm\")\n",
    "\n",
    "\n",
    "##compile the graph\n",
    "graph1 = builder.compile()\n",
    "display(Image(graph1.get_graph().draw_mermaid_png()))\n",
    "\n"
   ]
  },
  {
   "cell_type": "code",
   "execution_count": 3,
   "id": "9dc2ce0e",
   "metadata": {},
   "outputs": [
    {
     "name": "stdout",
     "output_type": "stream",
     "text": [
      "content='Hi my name is Atul' additional_kwargs={} response_metadata={} id='0dd5ac62-5093-4822-87aa-d4ef62936f00'\n",
      "content='Nice to meet you, Atul! What brings you here today?' additional_kwargs={} response_metadata={'token_usage': {'completion_tokens': 15, 'prompt_tokens': 2204, 'total_tokens': 2219, 'completion_time': 0.025332923, 'prompt_time': 0.248870543, 'queue_time': 0.274490134, 'total_time': 0.274203466}, 'model_name': 'llama3-8b-8192', 'system_fingerprint': 'fp_8b7c3a83f7', 'finish_reason': 'stop', 'logprobs': None} id='run--5accd866-1e6b-4d35-9aed-bf73d475f189-0' usage_metadata={'input_tokens': 2204, 'output_tokens': 15, 'total_tokens': 2219}\n"
     ]
    }
   ],
   "source": [
    "respone =graph1.invoke({\"messages\":\"Hi my name is Atul\"})\n",
    "respone['messages'][-1].content\n",
    "\n",
    "for m in respone[\"messages\"]:\n",
    "    print(m)"
   ]
  },
  {
   "cell_type": "code",
   "execution_count": 4,
   "id": "0b13131c",
   "metadata": {},
   "outputs": [
    {
     "name": "stdout",
     "output_type": "stream",
     "text": [
      "content='what is my name ?' additional_kwargs={} response_metadata={} id='f4978e0c-5215-42e4-bd05-e7eaadbebc34'\n",
      "content='' additional_kwargs={'tool_calls': [{'id': 'aqnb0sbqd', 'function': {'arguments': '{\"query\":\"what is my name\"}', 'name': 'tavily_search'}, 'type': 'function'}]} response_metadata={'token_usage': {'completion_tokens': 188, 'prompt_tokens': 2203, 'total_tokens': 2391, 'completion_time': 0.29818505, 'prompt_time': 0.252534011, 'queue_time': 0.27517902600000005, 'total_time': 0.550719061}, 'model_name': 'llama3-8b-8192', 'system_fingerprint': 'fp_8b7c3a83f7', 'finish_reason': 'tool_calls', 'logprobs': None} id='run--246329e2-c1e1-4c6b-b607-54465ede75ea-0' tool_calls=[{'name': 'tavily_search', 'args': {'query': 'what is my name'}, 'id': 'aqnb0sbqd', 'type': 'tool_call'}] usage_metadata={'input_tokens': 2203, 'output_tokens': 188, 'total_tokens': 2391}\n",
      "content='{\"query\": \"what is my name\", \"follow_up_questions\": null, \"answer\": null, \"images\": [], \"results\": [{\"title\": \"What Is My Name? - wikiHow\", \"url\": \"https://www.wikihow.com/What-Is-My-Name\", \"content\": \"What Your Name Says About You Did you know that your name can actually have an effect on your personality and how others perceive you? For example, some research has shown that if you have a \\\\\"sonorant\\\\\" name that flows easily, such as Mona or Owen, people are more likely to perceive you as agreeable and conscientious.\", \"score\": 0.3784826, \"raw_content\": null}, {\"title\": \"What Does My Name Mean? The Meaning Of Names\", \"url\": \"https://www.names.org/\", \"content\": \"Names.org is a website that helps you discover the meaning, origin, popularity, and trends of your name. You can search by first name, last name, full name, or baby name, and explore various lists and categories of names.\", \"score\": 0.359657, \"raw_content\": null}, {\"title\": \"What Is My Name? QUIZ - What Should Your Name Be? - Quizondo\", \"url\": \"https://quizondo.com/what-is-my-name-quiz/\", \"content\": \"QUIZ – What Should Your Name Be? Names carry weight. ## How Are Names Important? Before you take up the quiz, familiarize yourself with some of the names mentioned below. ### Names Based On Moon Sign However, names do carry the utmost importance to some. Are you ready to take the naming quiz and represent who you are? am i pansexual quiz am i pansexual quiz am i toxic quiz am i toxic quiz am I bisexual quiz am I bisexual quiz what job should i get quiz ### QUIZ: What Job Should I Get? how old am I quiz how old am I quiz what fruit am I quiz what fruit am I quiz ### QUIZ: What Fruit Am I?\", \"score\": 0.24305844, \"raw_content\": null}, {\"title\": \"What Should Your Name Really Be? - Nameberry\", \"url\": \"https://nameberry.com/quiz/what-should-your-name-really-be\", \"content\": \"A fascinating new name tied to a notable person and event every day. Click to read Nameberry of the Day, a Substack publication with tens of thousands of subscribers.\", \"score\": 0.19664136, \"raw_content\": null}, {\"title\": \"Can We Guess Your Name? - HowStuffWorks\", \"url\": \"https://play.howstuffworks.com/quiz/can-we-guess-your-name-learn\", \"content\": \"# Can We Guess Your Name? Can We Guess Your Name? Can We Guess Your Name? ## About This Quiz Are you a master at guessing people\\'s names? Take our fun guess your name quiz based on your personality traits! Find out if we can accurately guess your name based on your answers to our personality questions. Discover the fun and cultural significance of names with our quiz, \\\\\"\\\\\"Can We Guess Your Name?\\\\\"\\\\\" Let\\'s see if your personality traits align with the name you were given at birth. Take the quiz now to uncover the hidden meaning behind your name! Diff Colored Hair Diff Colored Hair Friend Group Friend Group Two friends Two friends Car buying Car buying Car Dealership cars Car Dealership cars Colors Colors\", \"score\": 0.1144182, \"raw_content\": null}], \"response_time\": 1.53}' name='tavily_search' id='0172473c-9ce1-4d75-b9d4-da4cb6690d20' tool_call_id='aqnb0sbqd'\n",
      "content='' additional_kwargs={'tool_calls': [{'id': 'stw813883', 'function': {'arguments': '{\"a\":1,\"b\":0}', 'name': 'multiply'}, 'type': 'function'}]} response_metadata={'token_usage': {'completion_tokens': 134, 'prompt_tokens': 3015, 'total_tokens': 3149, 'completion_time': 0.208876448, 'prompt_time': 0.91600739, 'queue_time': 0.2724939940000001, 'total_time': 1.124883838}, 'model_name': 'llama3-8b-8192', 'system_fingerprint': 'fp_2717d04279', 'finish_reason': 'tool_calls', 'logprobs': None} id='run--8cf462ae-8c52-4870-8147-e0acb1c26035-0' tool_calls=[{'name': 'multiply', 'args': {'a': 1, 'b': 0}, 'id': 'stw813883', 'type': 'tool_call'}] usage_metadata={'input_tokens': 3015, 'output_tokens': 134, 'total_tokens': 3149}\n",
      "content='0' name='multiply' id='33992d5d-e513-4f86-8116-9ef67a91888d' tool_call_id='stw813883'\n",
      "content=\"I'm not sure what that has to do with your name. It seems like the tool call was used to multiply two numbers, but I'm not seeing any relevant information about your name. Could you please provide more context or clarify what you're trying to find out about your name?\" additional_kwargs={} response_metadata={'token_usage': {'completion_tokens': 58, 'prompt_tokens': 3082, 'total_tokens': 3140, 'completion_time': 0.09788004, 'prompt_time': 0.347135494, 'queue_time': 0.275319113, 'total_time': 0.445015534}, 'model_name': 'llama3-8b-8192', 'system_fingerprint': 'fp_8b7c3a83f7', 'finish_reason': 'stop', 'logprobs': None} id='run--073e5ee5-fa62-4cbb-936a-cfd50f771a8a-0' usage_metadata={'input_tokens': 3082, 'output_tokens': 58, 'total_tokens': 3140}\n"
     ]
    }
   ],
   "source": [
    "respone =graph1.invoke({\"messages\":\"what is my name ?\"})\n",
    "respone['messages'][-1].content\n",
    "\n",
    "for m in respone[\"messages\"]:\n",
    "    print(m)"
   ]
  },
  {
   "cell_type": "code",
   "execution_count": null,
   "id": "03879608",
   "metadata": {},
   "outputs": [],
   "source": []
  },
  {
   "cell_type": "code",
   "execution_count": null,
   "id": "9b4ab825",
   "metadata": {},
   "outputs": [
    {
     "name": "stdout",
     "output_type": "stream",
     "text": [
      "d:\\AgenticAI\\.venv\\Scripts\\python.exe\n",
      "True\n"
     ]
    },
    {
     "data": {
      "image/png": "[encoded data removed]",
      "text/plain": [
       "<IPython.core.display.Image object>"
      ]
     },
     "metadata": {},
     "output_type": "display_data"
    }
   ],
   "source": [
    "from langchain_tavily import TavilySearch\n",
    "from typing import Annotated\n",
    "from typing_extensions import TypedDict\n",
    "from langgraph.graph import StateGraph,START,END\n",
    "from langgraph.graph.message import add_messages\n",
    "from IPython.display import Image, display\n",
    "\n",
    "\n",
    "\n",
    "class State(TypedDict):\n",
    "    messages:Annotated[list,add_messages] ## add_message is acting as reducer\n",
    "\n",
    "graph_builder=StateGraph(State)\n",
    "graph_builder\n",
    "\n",
    "import os \n",
    "from dotenv import load_dotenv\n",
    "load_dotenv()\n",
    "\n",
    "from langchain_groq import ChatGroq\n",
    "from langchain.chat_models import init_chat_model\n",
    "\n",
    "import os\n",
    "os.environ[\"GROQ_API_KEY\"] = \"GROQ_API_KEY\"\n",
    "llm = ChatGroq(model=\"llama3-8b-8192\")\n",
    "llm\n",
    "\n",
    "llm = ChatGroq(model=\"llama3-8b-8192\", api_key=os.environ[\"GROQ_API_KEY\"])\n",
    "\n",
    "\n",
    "tool  = TavilySearch(max_search=2)\n",
    "tool.invoke(\"What is langgraph\")\n",
    "\n",
    "import sys\n",
    "print(sys.executable)\n",
    "\n",
    "import pkg_resources\n",
    "installed_packages = {pkg.key for pkg in pkg_resources.working_set}\n",
    "print('langchain-tavily' in installed_packages)\n",
    "\n",
    "\n",
    "##Custom function\n",
    "def multiply(a:int,b:int)->int:\n",
    "    \"\"\"Multiply a and b\n",
    "\n",
    "    args:\n",
    "         a(int): first int\n",
    "         b(int): second int\n",
    "        \n",
    "    Returns:\n",
    "        int:output int\n",
    "    \n",
    "    \"\"\"\n",
    "\n",
    "    return a*b\n",
    "\n",
    "\n",
    "\n",
    "\n",
    "tools=[tool,multiply]\n",
    "llm_with_tool=llm.bind_tools(tools)\n",
    "llm_with_tool\n",
    "\n",
    "### Stategraph\n",
    "from langgraph.graph import StateGraph,START,END\n",
    "from langgraph.prebuilt import ToolNode\n",
    "from langgraph.prebuilt import tools_condition\n",
    "from langgraph.checkpoint.memory import MemorySaver\n",
    "\n",
    "memory = MemorySaver()\n",
    "\n",
    "## Node Defination\n",
    "def tool_calling_llm(state:State):\n",
    "    return {\"messages\":[llm_with_tool.invoke(state[\"messages\"])]}\n",
    "\n",
    "## create a graph\n",
    "builder= StateGraph(State)\n",
    "builder.add_node(\"tool_calling_llm\",tool_calling_llm)\n",
    "builder.add_node(\"tools\",ToolNode(tools))\n",
    "\n",
    "## add edges \n",
    "builder.add_edge(START,\"tool_calling_llm\")\n",
    "builder.add_conditional_edges(\n",
    "    \"tool_calling_llm\",\n",
    "    # if the latest messgaes (result) from assistant is a tool call ->tools_condition routes to tools\n",
    "    # if the latest messgaes (result) from assistant is a not tool call -> tools_condition routes to END\n",
    "    tools_condition\n",
    ")\n",
    "builder.add_edge(\"tools\",\"tool_calling_llm\")\n",
    "\n",
    "\n",
    "##compile the graph\n",
    "graph1 = builder.compile(checkpointer=memory)\n",
    "display(Image(graph1.get_graph().draw_mermaid_png()))\n"
   ]
  },
  {
   "cell_type": "code",
   "execution_count": 8,
   "id": "35cee85b",
   "metadata": {},
   "outputs": [],
   "source": [
    "config = {\"configurable\": {\"thread_id\":\"1\"}}"
   ]
  },
  {
   "cell_type": "code",
   "execution_count": 9,
   "id": "ea5ec343",
   "metadata": {},
   "outputs": [
    {
     "name": "stdout",
     "output_type": "stream",
     "text": [
      "content='Hi my name is Atul' additional_kwargs={} response_metadata={} id='28b11c9a-2aac-41a3-9d2a-b5dfbb87d39f'\n",
      "content=\"Hello Atul! It's nice to meet you. How can I assist you today?\" additional_kwargs={} response_metadata={'token_usage': {'completion_tokens': 19, 'prompt_tokens': 2204, 'total_tokens': 2223, 'completion_time': 0.03416047, 'prompt_time': 0.244471319, 'queue_time': 0.272083874, 'total_time': 0.278631789}, 'model_name': 'llama3-8b-8192', 'system_fingerprint': 'fp_6d1c2b0784', 'finish_reason': 'stop', 'logprobs': None} id='run--c206652b-9a22-4d94-b89d-392eb3e42471-0' usage_metadata={'input_tokens': 2204, 'output_tokens': 19, 'total_tokens': 2223}\n"
     ]
    }
   ],
   "source": [
    "respone =graph1.invoke({\"messages\":\"Hi my name is Atul\"},config= config)\n",
    "respone['messages'][-1].content\n",
    "\n",
    "for m in respone[\"messages\"]:\n",
    "    print(m)"
   ]
  },
  {
   "cell_type": "code",
   "execution_count": 10,
   "id": "069099a6",
   "metadata": {},
   "outputs": [
    {
     "name": "stdout",
     "output_type": "stream",
     "text": [
      "content='Hi my name is Atul' additional_kwargs={} response_metadata={} id='28b11c9a-2aac-41a3-9d2a-b5dfbb87d39f'\n",
      "content=\"Hello Atul! It's nice to meet you. How can I assist you today?\" additional_kwargs={} response_metadata={'token_usage': {'completion_tokens': 19, 'prompt_tokens': 2204, 'total_tokens': 2223, 'completion_time': 0.03416047, 'prompt_time': 0.244471319, 'queue_time': 0.272083874, 'total_time': 0.278631789}, 'model_name': 'llama3-8b-8192', 'system_fingerprint': 'fp_6d1c2b0784', 'finish_reason': 'stop', 'logprobs': None} id='run--c206652b-9a22-4d94-b89d-392eb3e42471-0' usage_metadata={'input_tokens': 2204, 'output_tokens': 19, 'total_tokens': 2223}\n",
      "content='Hey, what is my name ?' additional_kwargs={} response_metadata={} id='312bd37a-dd8c-47f6-a512-6e431fc80b3c'\n",
      "content='Your name is Atul.' additional_kwargs={} response_metadata={'token_usage': {'completion_tokens': 7, 'prompt_tokens': 2239, 'total_tokens': 2246, 'completion_time': 0.022285449, 'prompt_time': 0.255574662, 'queue_time': 0.269277499, 'total_time': 0.277860111}, 'model_name': 'llama3-8b-8192', 'system_fingerprint': 'fp_8dc6ecaf8e', 'finish_reason': 'stop', 'logprobs': None} id='run--ec6c0c85-c03d-483e-820c-bd3df55af858-0' usage_metadata={'input_tokens': 2239, 'output_tokens': 7, 'total_tokens': 2246}\n"
     ]
    }
   ],
   "source": [
    "respone =graph1.invoke({\"messages\":\"Hey, what is my name ?\"},config= config)\n",
    "respone['messages'][-1].content\n",
    "\n",
    "for m in respone[\"messages\"]:\n",
    "    print(m)"
   ]
  }
 ],
 "metadata": {
  "kernelspec": {
   "display_name": ".venv",
   "language": "python",
   "name": "python3"
  },
  "language_info": {
   "codemirror_mode": {
    "name": "ipython",
    "version": 3
   },
   "file_extension": ".py",
   "mimetype": "text/x-python",
   "name": "python",
   "nbconvert_exporter": "python",
   "pygments_lexer": "ipython3",
   "version": "3.9.13"
  }
 },
 "nbformat": 4,
 "nbformat_minor": 5
}
